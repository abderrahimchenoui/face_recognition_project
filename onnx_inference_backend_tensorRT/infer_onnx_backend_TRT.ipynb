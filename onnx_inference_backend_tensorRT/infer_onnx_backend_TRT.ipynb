{
 "cells": [
  {
   "cell_type": "code",
   "execution_count": 16,
   "metadata": {},
   "outputs": [],
   "source": [
    "# This sample uses an ONNX ResNet50 Model to create a TensorRT Inference Engine\n",
    "import random\n",
    "from PIL import Image\n",
    "import numpy as np\n",
    "\n",
    "import pycuda.driver as cuda\n",
    "# This import causes pycuda to automatically manage CUDA context creation and cleanup.\n",
    "import pycuda.autoinit\n",
    "\n",
    "import tensorrt as trt\n",
    "\n",
    "import sys, os\n",
    "sys.path.insert(1, os.path.join(sys.path[0], \"..\"))\n",
    "\n",
    "import common\n"
   ]
  },
  {
   "cell_type": "code",
   "execution_count": 26,
   "metadata": {},
   "outputs": [],
   "source": [
    "#build_engine(\"vgg19-caffe2-9.onnx\", verbose=False)\n",
    "class ModelData(object):\n",
    "    MODEL_PATH = \"vgg19-caffe2-9.onnx\"\n",
    "    INPUT_SHAPE = (3, 224, 224)\n",
    "    # We can convert TensorRT data types to numpy types with trt.nptype()\n",
    "    DTYPE = trt.float32\n",
    "# You can set the logger severity higher to suppress messages (or lower to display more messages).\n",
    "TRT_LOGGER = trt.Logger(trt.Logger.WARNING)\n"
   ]
  },
  {
   "cell_type": "code",
   "execution_count": 19,
   "metadata": {},
   "outputs": [],
   "source": [
    "# Allocate host and device buffers, and create a stream.\n",
    "def allocate_buffers(engine):\n",
    "    # Determine dimensions and create page-locked memory buffers (i.e. won't be swapped to disk) to hold host inputs/outputs.\n",
    "    h_input = cuda.pagelocked_empty(trt.volume(engine.get_binding_shape(0)), dtype=trt.nptype(ModelData.DTYPE))\n",
    "    h_output = cuda.pagelocked_empty(trt.volume(engine.get_binding_shape(1)), dtype=trt.nptype(ModelData.DTYPE))\n",
    "    # Allocate device memory for inputs and outputs.\n",
    "    d_input = cuda.mem_alloc(h_input.nbytes)\n",
    "    d_output = cuda.mem_alloc(h_output.nbytes)\n",
    "    # Create a stream in which to copy inputs/outputs and run inference.\n",
    "    stream = cuda.Stream()\n",
    "    return h_input, d_input, h_output, d_output, stream\n"
   ]
  },
  {
   "cell_type": "code",
   "execution_count": 20,
   "metadata": {},
   "outputs": [],
   "source": [
    "def do_inference(context, h_input, d_input, h_output, d_output, stream):\n",
    "    # Transfer input data to the GPU.\n",
    "    cuda.memcpy_htod_async(d_input, h_input, stream)\n",
    "    # Run inference.\n",
    "    context.execute_async(bindings=[int(d_input), int(d_output)], stream_handle=stream.handle)\n",
    "    # Transfer predictions back from the GPU.\n",
    "    cuda.memcpy_dtoh_async(h_output, d_output, stream)\n",
    "    # Synchronize the stream\n",
    "    stream.synchronize()\n"
   ]
  },
  {
   "cell_type": "code",
   "execution_count": 21,
   "metadata": {},
   "outputs": [],
   "source": [
    "# The Onnx path is used for Onnx models.\n",
    "def build_engine_onnx(model_file):\n",
    "    with trt.Builder(TRT_LOGGER) as builder, builder.create_network() as network, trt.OnnxParser(network, TRT_LOGGER) as parser:\n",
    "        builder.max_workspace_size = common.GiB(1)\n",
    "        # Load the Onnx model and parse it in order to populate the TensorRT network.\n",
    "        with open(model_file, 'rb') as model:\n",
    "            parser.parse(model.read())\n",
    "        return builder.build_cuda_engine(network)\n"
   ]
  },
  {
   "cell_type": "code",
   "execution_count": 22,
   "metadata": {},
   "outputs": [],
   "source": [
    "def load_normalized_test_case(test_image, pagelocked_buffer):\n",
    "    # Converts the input image to a CHW Numpy array\n",
    "    def normalize_image(image):\n",
    "        # Resize, antialias and transpose the image to CHW.\n",
    "        c, h, w = ModelData.INPUT_SHAPE\n",
    "        image_arr = np.asarray(image.resize((w, h), Image.ANTIALIAS)).transpose([2, 0, 1]).astype(trt.nptype(ModelData.DTYPE)).ravel()\n",
    "        # This particular ResNet50 model requires some preprocessing, specifically, mean normalization.\n",
    "        return (image_arr / 255.0 - 0.45) / 0.225\n",
    "\n",
    "    # Normalize the image and copy to pagelocked memory.\n",
    "    np.copyto(pagelocked_buffer, normalize_image(Image.open(test_image)))\n",
    "    return test_image"
   ]
  },
  {
   "cell_type": "code",
   "execution_count": 41,
   "metadata": {},
   "outputs": [
    {
     "name": "stdout",
     "output_type": "stream",
     "text": [
      "WARNING: /usr/src/tensorrt/data/vgg19 does not exist. Using /usr/src/tensorrt/data instead.\n"
     ]
    },
    {
     "ename": "AttributeError",
     "evalue": "__enter__",
     "output_type": "error",
     "traceback": [
      "\u001b[0;31m---------------------------------------------------------------------------\u001b[0m",
      "\u001b[0;31mAttributeError\u001b[0m                            Traceback (most recent call last)",
      "\u001b[0;32m<ipython-input-41-01f72efa221c>\u001b[0m in \u001b[0;36m<module>\u001b[0;34m\u001b[0m\n\u001b[1;32m     28\u001b[0m \u001b[0;34m\u001b[0m\u001b[0m\n\u001b[1;32m     29\u001b[0m \u001b[0;32mif\u001b[0m \u001b[0m__name__\u001b[0m \u001b[0;34m==\u001b[0m \u001b[0;34m'__main__'\u001b[0m\u001b[0;34m:\u001b[0m\u001b[0;34m\u001b[0m\u001b[0;34m\u001b[0m\u001b[0m\n\u001b[0;32m---> 30\u001b[0;31m     \u001b[0mmain\u001b[0m\u001b[0;34m(\u001b[0m\u001b[0;34m)\u001b[0m\u001b[0;34m\u001b[0m\u001b[0;34m\u001b[0m\u001b[0m\n\u001b[0m",
      "\u001b[0;32m<ipython-input-41-01f72efa221c>\u001b[0m in \u001b[0;36mmain\u001b[0;34m()\u001b[0m\n\u001b[1;32m      8\u001b[0m \u001b[0;34m\u001b[0m\u001b[0m\n\u001b[1;32m      9\u001b[0m     \u001b[0;31m# Build a TensorRT engine.\u001b[0m\u001b[0;34m\u001b[0m\u001b[0;34m\u001b[0m\u001b[0;34m\u001b[0m\u001b[0m\n\u001b[0;32m---> 10\u001b[0;31m     \u001b[0;32mwith\u001b[0m \u001b[0mbuild_engine_onnx\u001b[0m\u001b[0;34m(\u001b[0m\u001b[0monnx_model_file\u001b[0m\u001b[0;34m)\u001b[0m \u001b[0;32mas\u001b[0m \u001b[0mengine\u001b[0m\u001b[0;34m:\u001b[0m\u001b[0;34m\u001b[0m\u001b[0;34m\u001b[0m\u001b[0m\n\u001b[0m\u001b[1;32m     11\u001b[0m         \u001b[0;31m# Inference is the same regardless of which parser is used to build the engine, since the model architecture is the same.\u001b[0m\u001b[0;34m\u001b[0m\u001b[0;34m\u001b[0m\u001b[0;34m\u001b[0m\u001b[0m\n\u001b[1;32m     12\u001b[0m         \u001b[0;31m# Allocate buffers and create a CUDA stream.\u001b[0m\u001b[0;34m\u001b[0m\u001b[0;34m\u001b[0m\u001b[0;34m\u001b[0m\u001b[0m\n",
      "\u001b[0;31mAttributeError\u001b[0m: __enter__"
     ]
    }
   ],
   "source": [
    "def main():\n",
    "    # Set the data path to the directory that contains the trained models and test images for inference.\n",
    "    data_path, data_files = common.find_sample_data(description=\"Runs a vgg19-caffe2 network with a TensorRT inference engine.\", subfolder=\"vgg19\", find_files=[\"face.png\", \"face.png\", \"face.png\", ModelData.MODEL_PATH, \"class_labels.txt\"])\n",
    "    # Get test images, models and labels.\n",
    "    test_images = data_files[0:3]\n",
    "    onnx_model_file, labels_file = data_files[3:]\n",
    "    labels = open(labels_file, 'r').read().split('\\n')\n",
    "\n",
    "    # Build a TensorRT engine.\n",
    "    with build_engine_onnx(onnx_model_file) as engine:\n",
    "        # Inference is the same regardless of which parser is used to build the engine, since the model architecture is the same.\n",
    "        # Allocate buffers and create a CUDA stream.\n",
    "        h_input, d_input, h_output, d_output, stream = allocate_buffers(engine)\n",
    "        # Contexts are used to perform inference.\n",
    "        with engine.create_execution_context() as context:\n",
    "            # Load a normalized test case into the host input page-locked buffer.\n",
    "            test_image = random.choice(test_images)\n",
    "            test_case = load_normalized_test_case(test_image, h_input)\n",
    "            # Run the engine. The output will be a 1D tensor of length 1000, where each value represents the\n",
    "            # probability that the image corresponds to that label\n",
    "            do_inference(context, h_input, d_input, h_output, d_output, stream)\n",
    "            # We use the highest probability as our prediction. Its index corresponds to the predicted label.\n",
    "            pred = labels[np.argmax(h_output)]\n",
    "            if \"_\".join(pred.split()) in os.path.splitext(os.path.basename(test_case))[0]:\n",
    "                print(\"Correctly recognized \" + test_case + \" as \" + pred)\n",
    "            else:\n",
    "                print(\"Incorrectly recognized \" + test_case + \" as \" + pred)\n",
    "\n",
    "if __name__ == '__main__':\n",
    "    main()"
   ]
  },
  {
   "cell_type": "code",
   "execution_count": 61,
   "metadata": {},
   "outputs": [],
   "source": [
    "##### from below we use an other script"
   ]
  },
  {
   "cell_type": "code",
   "execution_count": 77,
   "metadata": {},
   "outputs": [],
   "source": [
    "def build_enginea(model_path):\n",
    "    with trt.Builder(TRT_LOGGER) as builder, \\\n",
    "        builder.create_network() as network, \\\n",
    "        trt.OnnxParser(network, TRT_LOGGER) as parser: \n",
    "        builder.max_workspace_size = 1<<30\n",
    "        builder.max_batch_size = 1\n",
    "        with open(model_path, \"rb\") as f:\n",
    "            parser.parse(f.read())\n",
    "        engine = builder.build_cuda_engine(network)\n",
    "        return engine "
   ]
  },
  {
   "cell_type": "code",
   "execution_count": 78,
   "metadata": {},
   "outputs": [
    {
     "name": "stdout",
     "output_type": "stream",
     "text": [
      "None\n"
     ]
    }
   ],
   "source": [
    "print(build_enginea(\"vgg19-caffe2-9.onnx\"))"
   ]
  },
  {
   "cell_type": "code",
   "execution_count": null,
   "metadata": {},
   "outputs": [],
   "source": []
  }
 ],
 "metadata": {
  "kernelspec": {
   "display_name": "Python 3",
   "language": "python",
   "name": "python3"
  },
  "language_info": {
   "codemirror_mode": {
    "name": "ipython",
    "version": 3
   },
   "file_extension": ".py",
   "mimetype": "text/x-python",
   "name": "python",
   "nbconvert_exporter": "python",
   "pygments_lexer": "ipython3",
   "version": "3.8.5"
  }
 },
 "nbformat": 4,
 "nbformat_minor": 4
}
